{
 "cells": [
  {
   "cell_type": "code",
   "execution_count": 1,
   "metadata": {
    "collapsed": true
   },
   "outputs": [
    {
     "name": "stdout",
     "output_type": "stream",
     "text": [
      "Running on Python 3.8.10 (tags/v3.8.10:3d8993a, May  3 2021, 11:48:03) [MSC v.1928 64 bit (AMD64)], Tensorflow 2.5.0, OpenCV 4.5.2\n"
     ]
    }
   ],
   "source": [
    "import os, sys\n",
    "import cv2\n",
    "import numpy as np\n",
    "import tensorflow as tf\n",
    "from tensorflow.keras.models import load_model\n",
    "from tensorflow.keras.applications.mobilenet_v2 import preprocess_input\n",
    "from tensorflow.keras.preprocessing.image import img_to_array\n",
    "\n",
    "physical_devices = tf.config.experimental.list_physical_devices('GPU')\n",
    "config = tf.config.experimental.set_memory_growth(physical_devices[0], True)\n",
    "print(f'Running on Python {sys.version}, Tensorflow {tf.__version__}, OpenCV {cv2.__version__}')"
   ]
  },
  {
   "cell_type": "code",
   "execution_count": 2,
   "outputs": [
    {
     "name": "stdout",
     "output_type": "stream",
     "text": [
      "Loading models...\n",
      "Face detection model loaded. \n",
      "Face detector and mask detector models loaded.\n"
     ]
    }
   ],
   "source": [
    "print('Loading models...')\n",
    "prototxtPath = 'face_detector/deploy.prototxt'\n",
    "weightsPath = 'face_detector/res10_300x300_ssd_iter_140000.caffemodel'\n",
    "face_detector = cv2.dnn.readNet(prototxtPath, weightsPath)  # Single Shot Multi-box Detector with ResNet-10 (SSD)\n",
    "print('Face detection model loaded. ')\n",
    "model = load_model('MobileNet mask')\n",
    "model_img_height, model_img_width = 224, 224  # The dimensions that the model is trained on\n",
    "print('Face detector and mask detector models loaded.')"
   ],
   "metadata": {
    "collapsed": false,
    "pycharm": {
     "name": "#%%\n"
    }
   }
  },
  {
   "cell_type": "code",
   "execution_count": 4,
   "outputs": [],
   "source": [
    "image = cv2.imread('test/2.jpg')\n",
    "img_height, img_width = image.shape[:2]\n",
    "blob = cv2.dnn.blobFromImage(image, 1.0, (300, 300))"
   ],
   "metadata": {
    "collapsed": false,
    "pycharm": {
     "name": "#%%\n"
    }
   }
  },
  {
   "cell_type": "code",
   "execution_count": 5,
   "outputs": [],
   "source": [
    "face_detector.setInput(blob)\n",
    "face_detector.setPreferableBackend(cv2.dnn.DNN_BACKEND_CUDA)\n",
    "face_detector.setPreferableTarget(cv2.dnn.DNN_TARGET_CUDA)\n",
    "detections = face_detector.forward()\n",
    "\n",
    "for i in range(0, detections.shape[2]):  # loop through each face detected\n",
    "    confidence = detections[0, 0, i, 2]\n",
    "    if confidence > 0.5:  # face detector confidence level\n",
    "        # compute the coordinates of the bounding box\n",
    "        box = detections[0, 0, i, 3:7] * np.array([img_width, img_height, img_width, img_height])\n",
    "        (startX, startY, endX, endY) = box.astype(\"int\")\n",
    "\n",
    "        # ensure the bounding boxes fall within the dimensions of the frame\n",
    "        (startX, startY) = (max(0, startX), max(0, startY))\n",
    "        (endX, endY) = (min(img_width - 1, endX), min(img_height - 1, endY))\n",
    "\n",
    "        # extract the face ROI, convert it from BGR to RGB channel resize it to model dimensions, and preprocess it\n",
    "        face = image[startY:endY, startX:endX]\n",
    "        face = cv2.resize(cv2.cvtColor(face, cv2.COLOR_BGR2RGB), (model_img_height, model_img_width))\n",
    "        face = np.expand_dims(preprocess_input(img_to_array(face)), axis=0)\n",
    "\n",
    "        # pass the face through the model to determine if the face has a mask or not\n",
    "        (noMask, Mask) = tf.nn.softmax(model.predict(face)[0])  # softmax here as model does not have due to using logit for loss\n",
    "\n",
    "        # determine the class label and color we'll use to draw the bounding box and text\n",
    "        label = \"Mask On\" if Mask > noMask else \"No Mask\"\n",
    "        color = (0, 255, 0) if label == \"Mask On\" else (0, 0, 255)\n",
    "        label = f\"{label}: {max(Mask, noMask) * 100:.3f}%\"  # confidence for mask detector\n",
    "\n",
    "        # display the label and bounding box rectangle on the output frame\n",
    "        cv2.putText(image, label, (startX, startY - 10), cv2.FONT_HERSHEY_SIMPLEX, 0.45, color, 1)\n",
    "        cv2.rectangle(image, (startX, startY), (endX, endY), color, 2)\n",
    "cv2.imshow(\"Result\", image)\n",
    "cv2.waitKey(0)  # ms to wait before closing the window, 0 is infinite\n",
    "cv2.destroyAllWindows()"
   ],
   "metadata": {
    "collapsed": false,
    "pycharm": {
     "name": "#%%\n"
    }
   }
  }
 ],
 "metadata": {
  "kernelspec": {
   "display_name": "Python 3",
   "language": "python",
   "name": "python3"
  },
  "language_info": {
   "codemirror_mode": {
    "name": "ipython",
    "version": 2
   },
   "file_extension": ".py",
   "mimetype": "text/x-python",
   "name": "python",
   "nbconvert_exporter": "python",
   "pygments_lexer": "ipython2",
   "version": "2.7.6"
  }
 },
 "nbformat": 4,
 "nbformat_minor": 0
}