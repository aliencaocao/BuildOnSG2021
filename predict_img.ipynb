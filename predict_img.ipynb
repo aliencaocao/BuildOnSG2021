{
 "cells": [
  {
   "cell_type": "code",
   "execution_count": 1,
   "metadata": {
    "collapsed": true
   },
   "outputs": [
    {
     "name": "stdout",
     "output_type": "stream",
     "text": [
      "Running on Python 3.8.10 (tags/v3.8.10:3d8993a, May  3 2021, 11:48:03) [MSC v.1928 64 bit (AMD64)], Tensorflow 2.5.0, OpenCV 4.5.2\n"
     ]
    }
   ],
   "source": [
    "import os, sys\n",
    "import cv2\n",
    "import numpy as np\n",
    "from yolo_utils import *\n",
    "import tensorflow as tf\n",
    "from tensorflow.keras.models import load_model\n",
    "from tensorflow.keras.applications.mobilenet_v2 import preprocess_input\n",
    "from tensorflow.keras.preprocessing.image import img_to_array\n",
    "\n",
    "physical_devices = tf.config.experimental.list_physical_devices('GPU')\n",
    "config = tf.config.experimental.set_memory_growth(physical_devices[0], True)\n",
    "print(f'Running on Python {sys.version}, Tensorflow {tf.__version__}, OpenCV {cv2.__version__}')"
   ]
  },
  {
   "cell_type": "code",
   "execution_count": 2,
   "outputs": [
    {
     "name": "stdout",
     "output_type": "stream",
     "text": [
      "Loading models...\n",
      "Face detection model (TF) loaded. Loading face mask model...\n"
     ]
    }
   ],
   "source": [
    "print('Loading models...')\n",
    "DNN = \"TF\"  # Single Shot Multi-box Detector with ResNet-10 (SSD), TF for 8 bit mobile, or YOLO V3\n",
    "assert DNN in ['TF', 'CAFFE', 'YOLO'], f'invalid DNN! Got: {DNN}'\n",
    "if DNN == \"CAFFE\":\n",
    "    modelFile = \"face_detector/res10_300x300_ssd_iter_140000_fp16.caffemodel\"\n",
    "    configFile = \"face_detector/deploy.prototxt\"\n",
    "    face_detector = cv2.dnn.readNetFromCaffe(configFile, modelFile)\n",
    "elif DNN == 'TF':\n",
    "    modelFile = \"face_detector/opencv_face_detector_uint8.pb\"\n",
    "    configFile = \"face_detector/opencv_face_detector.pbtxt\"\n",
    "    face_detector = cv2.dnn.readNetFromTensorflow(modelFile, configFile)\n",
    "else:\n",
    "    configFile = \"face_detector/yolov3.cfg\"\n",
    "    modelFile = \"face_detector/yolov3-wider_16000.weights\"\n",
    "    face_detector = cv2.dnn.readNetFromDarknet(configFile, modelFile)\n",
    "\n",
    "print(f'Face detection model ({DNN}) loaded. Loading face mask model...')"
   ],
   "metadata": {
    "collapsed": false,
    "pycharm": {
     "name": "#%%\n"
    }
   }
  },
  {
   "cell_type": "code",
   "execution_count": 3,
   "outputs": [
    {
     "name": "stdout",
     "output_type": "stream",
     "text": [
      "Model: \"model\"\n",
      "_________________________________________________________________\n",
      "Layer (type)                 Output Shape              Param #   \n",
      "=================================================================\n",
      "input_2 (InputLayer)         [(None, 224, 224, 3)]     0         \n",
      "_________________________________________________________________\n",
      "mobilenetv2_1.00_224 (Functi (None, 7, 7, 1280)        2257984   \n",
      "_________________________________________________________________\n",
      "average_pooling2d (AveragePo (None, 1, 1, 1280)        0         \n",
      "_________________________________________________________________\n",
      "flatten (Flatten)            (None, 1280)              0         \n",
      "_________________________________________________________________\n",
      "dense (Dense)                (None, 128)               163968    \n",
      "_________________________________________________________________\n",
      "activation (Activation)      (None, 128)               0         \n",
      "_________________________________________________________________\n",
      "dropout (Dropout)            (None, 128)               0         \n",
      "_________________________________________________________________\n",
      "dense_1 (Dense)              (None, 2)                 258       \n",
      "=================================================================\n",
      "Total params: 2,422,210\n",
      "Trainable params: 2,388,098\n",
      "Non-trainable params: 34,112\n",
      "_________________________________________________________________\n",
      "All models loaded.\n"
     ]
    }
   ],
   "source": [
    "model = load_model('MobileNetV2 Full mask')\n",
    "model_img_height, model_img_width = model.input_shape[1:3]  # The dimensions that the model is trained on\n",
    "model.summary()\n",
    "print('All models loaded.')"
   ],
   "metadata": {
    "collapsed": false,
    "pycharm": {
     "name": "#%%\n"
    }
   }
  },
  {
   "cell_type": "code",
   "execution_count": 4,
   "outputs": [
    {
     "ename": "error",
     "evalue": "OpenCV(4.5.2) C:\\Users\\runneradmin\\AppData\\Local\\Temp\\pip-req-build-kuwfz3h3\\opencv\\modules\\imgproc\\src\\color.cpp:182: error: (-215:Assertion failed) !_src.empty() in function 'cv::cvtColor'\n",
     "output_type": "error",
     "traceback": [
      "\u001B[1;31m---------------------------------------------------------------------------\u001B[0m",
      "\u001B[1;31merror\u001B[0m                                     Traceback (most recent call last)",
      "\u001B[1;32m<ipython-input-4-9fbf52f571df>\u001B[0m in \u001B[0;36m<module>\u001B[1;34m\u001B[0m\n\u001B[0;32m     24\u001B[0m             \u001B[1;31m# extract the face ROI, convert it from BGR to RGB channel resize it to model dimensions, and preprocess it\u001B[0m\u001B[1;33m\u001B[0m\u001B[1;33m\u001B[0m\u001B[1;33m\u001B[0m\u001B[0m\n\u001B[0;32m     25\u001B[0m             \u001B[0mface\u001B[0m \u001B[1;33m=\u001B[0m \u001B[0mimage\u001B[0m\u001B[1;33m[\u001B[0m\u001B[0mstartY\u001B[0m\u001B[1;33m:\u001B[0m\u001B[0mendY\u001B[0m\u001B[1;33m,\u001B[0m \u001B[0mstartX\u001B[0m\u001B[1;33m:\u001B[0m\u001B[0mendX\u001B[0m\u001B[1;33m]\u001B[0m\u001B[1;33m\u001B[0m\u001B[1;33m\u001B[0m\u001B[0m\n\u001B[1;32m---> 26\u001B[1;33m             \u001B[0mface\u001B[0m \u001B[1;33m=\u001B[0m \u001B[0mcv2\u001B[0m\u001B[1;33m.\u001B[0m\u001B[0mresize\u001B[0m\u001B[1;33m(\u001B[0m\u001B[0mcv2\u001B[0m\u001B[1;33m.\u001B[0m\u001B[0mcvtColor\u001B[0m\u001B[1;33m(\u001B[0m\u001B[0mface\u001B[0m\u001B[1;33m,\u001B[0m \u001B[0mcv2\u001B[0m\u001B[1;33m.\u001B[0m\u001B[0mCOLOR_BGR2RGB\u001B[0m\u001B[1;33m)\u001B[0m\u001B[1;33m,\u001B[0m \u001B[1;33m(\u001B[0m\u001B[0mmodel_img_height\u001B[0m\u001B[1;33m,\u001B[0m \u001B[0mmodel_img_width\u001B[0m\u001B[1;33m)\u001B[0m\u001B[1;33m)\u001B[0m\u001B[1;33m\u001B[0m\u001B[1;33m\u001B[0m\u001B[0m\n\u001B[0m\u001B[0;32m     27\u001B[0m             \u001B[0mface\u001B[0m \u001B[1;33m=\u001B[0m \u001B[0mnp\u001B[0m\u001B[1;33m.\u001B[0m\u001B[0mexpand_dims\u001B[0m\u001B[1;33m(\u001B[0m\u001B[0mpreprocess_input\u001B[0m\u001B[1;33m(\u001B[0m\u001B[0mimg_to_array\u001B[0m\u001B[1;33m(\u001B[0m\u001B[0mface\u001B[0m\u001B[1;33m)\u001B[0m\u001B[1;33m)\u001B[0m\u001B[1;33m,\u001B[0m \u001B[0maxis\u001B[0m\u001B[1;33m=\u001B[0m\u001B[1;36m0\u001B[0m\u001B[1;33m)\u001B[0m\u001B[1;33m\u001B[0m\u001B[1;33m\u001B[0m\u001B[0m\n\u001B[0;32m     28\u001B[0m \u001B[1;33m\u001B[0m\u001B[0m\n",
      "\u001B[1;31merror\u001B[0m: OpenCV(4.5.2) C:\\Users\\runneradmin\\AppData\\Local\\Temp\\pip-req-build-kuwfz3h3\\opencv\\modules\\imgproc\\src\\color.cpp:182: error: (-215:Assertion failed) !_src.empty() in function 'cv::cvtColor'\n"
     ]
    }
   ],
   "source": [
    "image = cv2.imread('test/1.jpg')\n",
    "img_height, img_width = image.shape[:2]\n",
    "# TODO: NMS\n",
    "if DNN == 'YOLO':  # TODO: not working properly, spams predictions\n",
    "    blob = cv2.dnn.blobFromImage(image, 1 / 255, (IMG_WIDTH, IMG_HEIGHT), [0, 0, 0], 1, crop=False)\n",
    "    face_detector.setInput(blob)\n",
    "    detections = face_detector.forward(get_outputs_names(face_detector))\n",
    "    faces = post_process(image, detections, CONF_THRESHOLD, NMS_THRESHOLD)\n",
    "else:\n",
    "    blob = cv2.dnn.blobFromImage(image, 1.0)  # no cropping as face detector sucks at cropped pics\n",
    "    face_detector.setInput(blob)\n",
    "    detections = face_detector.forward()\n",
    "    for i in range(0, detections.shape[2]):  # loop through each face detected\n",
    "        confidence = detections[0, 0, i, 2]\n",
    "        if confidence > 0.5:  # face detector confidence level\n",
    "            # compute the coordinates of the bounding box\n",
    "            box = detections[0, 0, i, 3:7] * np.array([img_width, img_height, img_width, img_height])\n",
    "            (startX, startY, endX, endY) = box.astype(\"int\")\n",
    "\n",
    "            # ensure the bounding boxes fall within the dimensions of the frame\n",
    "            (startX, startY) = (max(0, startX), max(0, startY))\n",
    "            (endX, endY) = (min(img_width - 1, endX), min(img_height - 1, endY))\n",
    "\n",
    "            # extract the face ROI, convert it from BGR to RGB channel resize it to model dimensions, and preprocess it\n",
    "            face = image[startY:endY, startX:endX]\n",
    "            face = cv2.resize(cv2.cvtColor(face, cv2.COLOR_BGR2RGB), (model_img_height, model_img_width))\n",
    "            face = np.expand_dims(preprocess_input(img_to_array(face)), axis=0)\n",
    "\n",
    "            # pass the face through the model to determine if the face has a mask or not\n",
    "            (noMask, Mask) = tf.nn.softmax(model.predict(face)[0])  # softmax here as model does not have due to using logit for loss\n",
    "\n",
    "            # determine the class label and color we'll use to draw the bounding box and text\n",
    "            label = \"Mask On\" if Mask > noMask else \"No Mask\"\n",
    "            color = (0, 255*float(max(Mask, noMask)), 255*(1-float(max(Mask, noMask)))) if label == \"Mask On\" else (0, 255*(1-float(max(Mask, noMask))), 255*float(max(Mask, noMask)))\n",
    "            label = f\"{label}: {max(Mask, noMask) * 100:.3f}%\"  # confidence for mask detector\n",
    "\n",
    "            # display the label and bounding box rectangle on the output frame\n",
    "            cv2.putText(image, label, (startX, startY - 10), cv2.FONT_HERSHEY_SIMPLEX, 0.45, color, 1)\n",
    "            cv2.rectangle(image, (startX, startY), (endX, endY), color, 2)\n",
    "cv2.imshow(\"Result\", image)\n",
    "cv2.waitKey(0)  # ms to wait before closing the window, 0 is infinite\n",
    "cv2.destroyAllWindows()"
   ],
   "metadata": {
    "collapsed": false,
    "pycharm": {
     "name": "#%%\n"
    }
   }
  }
 ],
 "metadata": {
  "kernelspec": {
   "display_name": "Python 3",
   "language": "python",
   "name": "python3"
  },
  "language_info": {
   "codemirror_mode": {
    "name": "ipython",
    "version": 2
   },
   "file_extension": ".py",
   "mimetype": "text/x-python",
   "name": "python",
   "nbconvert_exporter": "python",
   "pygments_lexer": "ipython2",
   "version": "2.7.6"
  }
 },
 "nbformat": 4,
 "nbformat_minor": 0
}