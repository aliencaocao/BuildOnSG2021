{
 "cells": [
  {
   "cell_type": "code",
   "execution_count": 1,
   "metadata": {
    "collapsed": true
   },
   "outputs": [
    {
     "name": "stdout",
     "output_type": "stream",
     "text": [
      "Running on Python 3.9.10 (tags/v3.9.10:f2f3f53, Jan 17 2022, 15:14:21) [MSC v.1929 64 bit (AMD64)], Tensorflow 2.8.0-rc1, OpenCV 4.5.5\n"
     ]
    }
   ],
   "source": [
    "import os, sys\n",
    "import cv2\n",
    "import time\n",
    "import imutils\n",
    "import numpy as np\n",
    "import tensorflow as tf\n",
    "from tensorflow.keras.models import load_model\n",
    "from tensorflow.keras.preprocessing.image import img_to_array\n",
    "from tensorflow.keras.applications.mobilenet_v2 import preprocess_input\n",
    "\n",
    "physical_devices = tf.config.experimental.list_physical_devices('GPU')\n",
    "config = tf.config.experimental.set_memory_growth(physical_devices[0], True)\n",
    "print(f'Running on Python {sys.version}, Tensorflow {tf.__version__}, OpenCV {cv2.__version__}')"
   ]
  },
  {
   "cell_type": "code",
   "execution_count": 2,
   "outputs": [
    {
     "name": "stdout",
     "output_type": "stream",
     "text": [
      "Loading models...\n",
      "Face detection model (CAFFE) loaded. Loading face mask model...\n"
     ]
    }
   ],
   "source": [
    "print('Loading models...')\n",
    "DNN = \"CAFFE\"  # Single Shot Multi-box Detector with ResNet-10 (SSD), TF for 8 bit mobile, or YOLO V3\n",
    "assert DNN in ['TF', 'CAFFE', 'YOLO'], f'invalid DNN! Got: {DNN}'\n",
    "if DNN == \"CAFFE\":\n",
    "    modelFile = \"face_detector/res10_300x300_ssd_iter_140000_fp16.caffemodel\"\n",
    "    configFile = \"face_detector/deploy.prototxt\"\n",
    "    face_detector = cv2.dnn.readNetFromCaffe(configFile, modelFile)\n",
    "elif DNN == 'TF':\n",
    "    modelFile = \"face_detector/opencv_face_detector_uint8.pb\"\n",
    "    configFile = \"face_detector/opencv_face_detector.pbtxt\"\n",
    "    face_detector = cv2.dnn.readNetFromTensorflow(modelFile, configFile)\n",
    "else:# YOLOv3 dont work yet\n",
    "    configFile = \"face_detector/yolov3.cfg\"\n",
    "    modelFile = \"face_detector/yolov3-wider_16000.weights\"\n",
    "    face_detector = cv2.dnn.readNetFromDarknet(configFile, modelFile)\n",
    "\n",
    "print(f'Face detection model ({DNN}) loaded. Loading face mask model...')"
   ],
   "metadata": {
    "collapsed": false,
    "pycharm": {
     "name": "#%%\n"
    }
   }
  },
  {
   "cell_type": "code",
   "execution_count": 3,
   "outputs": [
    {
     "name": "stdout",
     "output_type": "stream",
     "text": [
      "Model: \"model\"\n",
      "_________________________________________________________________\n",
      " Layer (type)                Output Shape              Param #   \n",
      "=================================================================\n",
      " input_2 (InputLayer)        [(None, 224, 224, 3)]     0         \n",
      "                                                                 \n",
      " mobilenetv2_1.00_224 (Funct  (None, 7, 7, 1280)       2257984   \n",
      " ional)                                                          \n",
      "                                                                 \n",
      " average_pooling2d (AverageP  (None, 1, 1, 1280)       0         \n",
      " ooling2D)                                                       \n",
      "                                                                 \n",
      " flatten (Flatten)           (None, 1280)              0         \n",
      "                                                                 \n",
      " dense (Dense)               (None, 128)               163968    \n",
      "                                                                 \n",
      " activation (Activation)     (None, 128)               0         \n",
      "                                                                 \n",
      " dropout (Dropout)           (None, 128)               0         \n",
      "                                                                 \n",
      " dense_1 (Dense)             (None, 2)                 258       \n",
      "                                                                 \n",
      "=================================================================\n",
      "Total params: 2,422,210\n",
      "Trainable params: 2,388,098\n",
      "Non-trainable params: 34,112\n",
      "_________________________________________________________________\n",
      "All models loaded.\n"
     ]
    }
   ],
   "source": [
    "model = load_model('MobileNetV2 Full mask')\n",
    "model_img_height, model_img_width = model.input_shape[1:3]  # The dimensions that the model is trained on\n",
    "model.summary()\n",
    "print('All models loaded.')"
   ],
   "metadata": {
    "collapsed": false,
    "pycharm": {
     "name": "#%%\n"
    }
   }
  },
  {
   "cell_type": "code",
   "execution_count": 4,
   "outputs": [],
   "source": [
    "# TODO: NMS\n",
    "def detect_and_predict_mask(frame, faceNet, maskNet):\n",
    "    (img_height, img_width) = frame.shape[:2]\n",
    "    blob = cv2.dnn.blobFromImage(frame, 1.0)  # no cropping as face detector sucks at cropped pics\n",
    "    faceNet.setInput(blob)\n",
    "    detections = faceNet.forward()\n",
    "    locs, preds = [], []\n",
    "    for i in range(0, detections.shape[2]):  # loop through each face detected\n",
    "        # extract the confidence of the detection\n",
    "        confidence = detections[0, 0, i, 2]\n",
    "        if confidence > 0.5:\n",
    "            # compute the coordinates of the bounding box\n",
    "            box = detections[0, 0, i, 3:7] * np.array([img_width, img_height, img_width, img_height])\n",
    "            (startX, startY, endX, endY) = box.astype(\"int\")\n",
    "\n",
    "            # ensure the bounding boxes fall within the dimensions of the frame\n",
    "            (startX, startY) = (max(0, startX), max(0, startY))\n",
    "            (endX, endY) = (min(img_width - 1, endX), min(img_height - 1, endY))\n",
    "\n",
    "            # extract the face ROI, convert it from BGR to RGB channel resize it to model dimensions, and preprocess it\n",
    "            face = frame[startY:endY, startX:endX]\n",
    "            face = cv2.resize(cv2.cvtColor(face, cv2.COLOR_BGR2RGB), (model_img_height, model_img_width))\n",
    "            face = np.expand_dims(preprocess_input(img_to_array(face)), axis=0)\n",
    "            locs.append((startX, startY, endX, endY))\n",
    "            preds.append(tf.nn.softmax(maskNet.predict(face))[0])  # softmax here as model does not have due to using logit for loss\n",
    "    return locs, preds"
   ],
   "metadata": {
    "collapsed": false,
    "pycharm": {
     "name": "#%%\n"
    }
   }
  },
  {
   "cell_type": "code",
   "execution_count": 5,
   "outputs": [],
   "source": [
    "stream = cv2.VideoCapture('test/Free Stock Footage (People wearing face mask, Empty Street, Covid19).mp4')  # src=0 is webcam\n",
    "# stream = cv2.VideoCapture(0)  # src=0 is webcam\n",
    "# fourcc = cv2.VideoWriter_fourcc(*'XVID')  # output dont work yet\n",
    "# out = cv2.VideoWriter('output.avi', fourcc, 20.0, (650, 1155))  # output dont work yet\n",
    "prev_frame_time, new_frame_time = 0, 0  # for FPS calculation\n",
    "while stream.isOpened():\n",
    "    has_frame, frame = stream.read()\n",
    "    frame = imutils.resize(frame, width=650)\n",
    "    if not has_frame:\n",
    "        print('Reached end of stream')\n",
    "        if cv2.waitKey(0) & 0xFF == ord('q'):\n",
    "            break\n",
    "    else:\n",
    "        locs, preds = detect_and_predict_mask(frame=frame, faceNet=face_detector, maskNet=model)\n",
    "\n",
    "        for (box, pred) in zip(locs, preds):  # loop over the detected face locations and their corresponding locations\n",
    "            # unpack the bounding box and predictions\n",
    "            (startX, startY, endX, endY) = box\n",
    "            (noMask, Mask) = pred\n",
    "            label = \"Mask On\" if Mask > noMask else \"No Mask\"\n",
    "            color = (0, 255*float(max(Mask, noMask)), 255*(1-float(max(Mask, noMask)))) if label == \"Mask On\" else (0, 255*(1-float(max(Mask, noMask))), 255*float(max(Mask, noMask)))\n",
    "            label = f\"{label}: {max(Mask, noMask) * 100:.3f}%\"  # confidence for mask detector\n",
    "\n",
    "            # display the label and bounding box rectangle on the output frame\n",
    "            cv2.putText(frame, label, (startX, startY - 10), cv2.FONT_HERSHEY_SIMPLEX, 0.45, color, 1)\n",
    "            cv2.rectangle(frame, (startX, startY), (endX, endY), color, 2)\n",
    "        new_frame_time = time.time()\n",
    "        fps = str(int(1/(new_frame_time-prev_frame_time)))\n",
    "        prev_frame_time = new_frame_time\n",
    "        cv2.putText(frame, fps, (7, 70), cv2.FONT_HERSHEY_SIMPLEX, 3, (100, 255, 0), 3, cv2.LINE_AA)\n",
    "        # out.write(frame)  # output dont work yet\n",
    "        cv2.imshow(\"Frame\", frame)\n",
    "        if cv2.waitKey(1) & 0xFF == ord('q'):\n",
    "            break\n",
    "\n",
    "stream.release()\n",
    "cv2.destroyAllWindows()"
   ],
   "metadata": {
    "collapsed": false,
    "pycharm": {
     "name": "#%%\n"
    }
   }
  }
 ],
 "metadata": {
  "kernelspec": {
   "display_name": "Python 3",
   "language": "python",
   "name": "python3"
  },
  "language_info": {
   "codemirror_mode": {
    "name": "ipython",
    "version": 2
   },
   "file_extension": ".py",
   "mimetype": "text/x-python",
   "name": "python",
   "nbconvert_exporter": "python",
   "pygments_lexer": "ipython2",
   "version": "2.7.6"
  }
 },
 "nbformat": 4,
 "nbformat_minor": 0
}